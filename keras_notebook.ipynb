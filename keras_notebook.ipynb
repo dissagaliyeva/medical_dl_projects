{
 "cells": [
  {
   "cell_type": "markdown",
   "source": [
    "# Chest X-Ray Medical Diagnosis with Deep Learning\n",
    "\n",
    "<img src=\"images/xray-header-image.png\" style=\"padding-top: 50px;width: 500px; height:500px; left: 0px;margin-left: 0px;margin-right: 0px;\">\n",
    "\n",
    "In this assignment you will explore medical image diagnosis by building a state-of-the-art chest X-ray classifier using Keras.\n",
    "\n",
    "The assignment will walk through some of the steps of building and evaluating this deep learning classifier model. In particular, you will:\n",
    "- Pre-process and prepare a real-world X-ray dataset.\n",
    "- Use transfer learning to retrain a DenseNet model for X-ray image classification.\n",
    "- Learn a technique to handle class imbalance\n",
    "- Measure diagnostic performance by computing the AUC (Area Under the Curve) for the ROC (Receiver Operating Characteristic) curve.\n",
    "- Visualize model activity using GradCAMs.\n",
    "\n",
    "In completing this assignment you will learn about the following topics:\n",
    "\n",
    "- Data preparation\n",
    "  - Visualizing data.\n",
    "  - Preventing data leakage.\n",
    "- Model Development\n",
    "  - Addressing class imbalance.\n",
    "  - Leveraging pre-trained models using transfer learning.\n",
    "- Evaluation\n",
    "  - AUC and ROC curves."
   ],
   "metadata": {
    "collapsed": false
   }
  },
  {
   "cell_type": "markdown",
   "source": [
    "## Table of Contents\n",
    "\n",
    "- [1. Import Packages and Functions](#1)\n",
    "- [2. Load the Datasets](#2)\n",
    "    - [2.1 Loading the Data](#2-1)\n",
    "    - [2.2 Preventing Data Leakage](#2-2)\n",
    "        - [Exercise 1 - check for Leakage](#Ex-1)\n",
    "    - [2.3 Preparing Images](#2-3)\n",
    "- [3. Model Development](#3)\n",
    "    - [3.1 Addressing Class Imbalance](#3-1)\n",
    "        - [Exercise 2 - compute Class Frequencies](#Ex-2)\n",
    "        - [Exercise 3 - get Weighted Loss](#Ex-3)\n",
    "    - [3.2 DenseNet121](#3-2)\n",
    "- [4. Training (Optional)](#4)\n",
    "    - [4.1 Training on the Larger Dataset](#4-1)\n",
    "- [5. Prediction and Evaluation](#5)\n",
    "    - [5.1 ROC Curve and AUROC](#5-1)\n",
    "    - [5.2 Visualizing Learning with GradCAM](#5-2)"
   ],
   "metadata": {
    "collapsed": false
   }
  },
  {
   "cell_type": "markdown",
   "source": [
    "<a name='1'></a>\n",
    "## 1. Import Packages and Functions\n",
    "\n",
    "We'll make use of the following packages:\n",
    "- `numpy` and `pandas` is what we'll use to manipulate our data\n",
    "- `matplotlib.pyplot` and `seaborn` will be used to produce plots for visualization\n",
    "- `util` will provide the locally defined utility functions that have been provided for this assignment\n",
    "\n",
    "We will also use several modules from the `keras` framework for building deep learning models.\n",
    "\n",
    "Run the next cell to import all the necessary packages."
   ],
   "metadata": {
    "collapsed": false
   }
  },
  {
   "cell_type": "code",
   "execution_count": 2,
   "metadata": {
    "collapsed": true
   },
   "outputs": [],
   "source": [
    "import numpy as np\n",
    "import pandas as pd\n",
    "import seaborn as sns\n",
    "import matplotlib.pyplot as plt\n",
    "\n",
    "from keras.preprocessing.image import ImageDataGenerator\n",
    "from keras.applications.densenet import DenseNet121\n",
    "from keras.layers import Dense, GlobalAveragePooling2D\n",
    "from keras.models import Model\n",
    "from keras import backend as K\n",
    "\n",
    "from keras.models import load_model\n",
    "\n",
    "import tensorflow as tf\n",
    "tf.compat.v1.logging.set_verbosity(tf.compat.v1.logging.ERROR)"
   ]
  },
  {
   "cell_type": "markdown",
   "source": [
    "<a name='2'></a>\n",
    "## 2. Load the Datasets\n",
    "\n",
    "For this assignment, we will be using the [ChestX-ray8 dataset](https://arxiv.org/abs/1705.02315) which contains 108,948 frontal-view X-ray images of 32,717 unique patients.\n",
    "- Each image in the data set contains multiple text-mined labels identifying 14 different pathological conditions.\n",
    "- These in turn can be used by physicians to diagnose 8 different diseases.\n",
    "- We will use this data to develop a single model that will provide binary classification predictions for each of the 14 labeled pathologies.\n",
    "- In other words it will predict 'positive' or 'negative' for each of the pathologies.\n",
    "\n",
    "You can download the entire dataset for free [here](https://nihcc.app.box.com/v/ChestXray-NIHCC).\n",
    "- We have provided a ~1000 image subset of the images for you.\n",
    "- These can be accessed in the folder path stored in the `IMAGE_DIR` variable.\n",
    "\n",
    "The dataset includes a CSV file that provides the labels for each X-ray.\n",
    "\n",
    "To make your job a bit easier, we have processed the labels for our small sample and generated three new files to get you started. These three files are:\n",
    "\n",
    "1. `nih/train-small.csv`: 875 images from our dataset to be used for training.\n",
    "1. `nih/valid-small.csv`: 109 images from our dataset to be used for validation.\n",
    "1. `nih/test.csv`: 420 images from our dataset to be used for testing.\n",
    "\n",
    "This dataset has been annotated by consensus among four different radiologists for 5 of our 14 pathologies:\n",
    "- `Consolidation`\n",
    "- `Edema`\n",
    "- `Effusion`\n",
    "- `Cardiomegaly`\n",
    "- `Atelectasis`"
   ],
   "metadata": {
    "collapsed": false
   }
  },
  {
   "cell_type": "code",
   "execution_count": null,
   "outputs": [],
   "source": [],
   "metadata": {
    "collapsed": false,
    "pycharm": {
     "name": "#%%\n"
    }
   }
  }
 ],
 "metadata": {
  "kernelspec": {
   "display_name": "Python 3",
   "language": "python",
   "name": "python3"
  },
  "language_info": {
   "codemirror_mode": {
    "name": "ipython",
    "version": 2
   },
   "file_extension": ".py",
   "mimetype": "text/x-python",
   "name": "python",
   "nbconvert_exporter": "python",
   "pygments_lexer": "ipython2",
   "version": "2.7.6"
  }
 },
 "nbformat": 4,
 "nbformat_minor": 0
}